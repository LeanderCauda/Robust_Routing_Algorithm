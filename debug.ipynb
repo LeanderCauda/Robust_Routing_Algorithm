{
 "cells": [
  {
   "cell_type": "markdown",
   "id": "2bd7f537-3389-40dd-bc2b-e208535d45b1",
   "metadata": {},
   "source": [
    "# Setup"
   ]
  },
  {
   "cell_type": "code",
   "execution_count": 1,
   "id": "05ffab4f-55b6-41ce-854a-6ecb285ba8f9",
   "metadata": {},
   "outputs": [],
   "source": [
    "%load_ext autoreload\n",
    "%autoreload 2"
   ]
  },
  {
   "cell_type": "code",
   "execution_count": 2,
   "id": "3b6b834a-269a-44ef-9afe-f4b7b8fb13d3",
   "metadata": {},
   "outputs": [
    {
     "name": "stdout",
     "output_type": "stream",
     "text": [
      "Defaulting to user installation because normal site-packages is not writeable\n",
      "Requirement already satisfied: apache-sedona in /home/jsiffert/.local/lib/python3.10/site-packages (1.7.1)\n",
      "Requirement already satisfied: geopandas in /home/jsiffert/.local/lib/python3.10/site-packages (1.0.1)\n",
      "Requirement already satisfied: attrs in /opt/tljh/user/lib/python3.10/site-packages (from apache-sedona) (24.2.0)\n",
      "Requirement already satisfied: shapely>=1.7.0 in /home/jsiffert/.local/lib/python3.10/site-packages (from apache-sedona) (2.1.0)\n",
      "Requirement already satisfied: numpy>=1.22 in /opt/tljh/user/lib/python3.10/site-packages (from geopandas) (2.1.3)\n",
      "Requirement already satisfied: pyogrio>=0.7.2 in /home/jsiffert/.local/lib/python3.10/site-packages (from geopandas) (0.10.0)\n",
      "Requirement already satisfied: packaging in /opt/tljh/user/lib/python3.10/site-packages (from geopandas) (24.1)\n",
      "Requirement already satisfied: pandas>=1.4.0 in /opt/tljh/user/lib/python3.10/site-packages (from geopandas) (2.2.3)\n",
      "Requirement already satisfied: pyproj>=3.3.0 in /home/jsiffert/.local/lib/python3.10/site-packages (from geopandas) (3.7.1)\n",
      "Requirement already satisfied: python-dateutil>=2.8.2 in /opt/tljh/user/lib/python3.10/site-packages (from pandas>=1.4.0->geopandas) (2.9.0.post0)\n",
      "Requirement already satisfied: pytz>=2020.1 in /opt/tljh/user/lib/python3.10/site-packages (from pandas>=1.4.0->geopandas) (2024.2)\n",
      "Requirement already satisfied: tzdata>=2022.7 in /opt/tljh/user/lib/python3.10/site-packages (from pandas>=1.4.0->geopandas) (2025.1)\n",
      "Requirement already satisfied: certifi in /opt/tljh/user/lib/python3.10/site-packages (from pyogrio>=0.7.2->geopandas) (2022.12.7)\n",
      "Requirement already satisfied: six>=1.5 in /opt/tljh/user/lib/python3.10/site-packages (from python-dateutil>=2.8.2->pandas>=1.4.0->geopandas) (1.16.0)\n",
      "\n",
      "\u001b[1m[\u001b[0m\u001b[34;49mnotice\u001b[0m\u001b[1;39;49m]\u001b[0m\u001b[39;49m A new release of pip is available: \u001b[0m\u001b[31;49m24.2\u001b[0m\u001b[39;49m -> \u001b[0m\u001b[32;49m25.1.1\u001b[0m\n",
      "\u001b[1m[\u001b[0m\u001b[34;49mnotice\u001b[0m\u001b[1;39;49m]\u001b[0m\u001b[39;49m To update, run: \u001b[0m\u001b[32;49mpip install --upgrade pip\u001b[0m\n"
     ]
    }
   ],
   "source": [
    "!pip install apache-sedona geopandas"
   ]
  },
  {
   "cell_type": "code",
   "execution_count": 3,
   "id": "0a398842-ed83-4730-8a28-7ac46b4f8111",
   "metadata": {},
   "outputs": [
    {
     "name": "stdout",
     "output_type": "stream",
     "text": [
      "/opt/spark\n",
      "hadoopFSs=hdfs://iccluster059.iccluster.epfl.ch:9000\n",
      "username=jsiffert\n",
      "group=A1\n"
     ]
    }
   ],
   "source": [
    "import os\n",
    "import pwd\n",
    "import sys\n",
    "\n",
    "from pyspark.sql import SparkSession, DataFrame, Window\n",
    "from sedona.spark import SedonaContext\n",
    "from random import randrange\n",
    "import pyspark.sql.functions as F\n",
    "\n",
    "username = pwd.getpwuid(os.getuid()).pw_name\n",
    "hadoopFS=os.getenv('HADOOP_FS', None)\n",
    "groupName = 'A1'\n",
    "namespace = 'iceberg.' + username\n",
    "sharedNS = 'iceberg.com490_iceberg'\n",
    "\n",
    "print(os.getenv('SPARK_HOME'))\n",
    "print(f\"hadoopFSs={hadoopFS}\")\n",
    "print(f\"username={username}\")\n",
    "print(f\"group={groupName}\")"
   ]
  },
  {
   "cell_type": "code",
   "execution_count": 4,
   "id": "6a9c981c-d72d-4594-9c6d-65693c1a1589",
   "metadata": {},
   "outputs": [
    {
     "name": "stderr",
     "output_type": "stream",
     "text": [
      "https://artifacts.unidata.ucar.edu/repository/unidata-all added as a remote repository with the name: repo-1\n",
      "Ivy Default Cache set to: /home/jsiffert/.ivy2/cache\n",
      "The jars for the packages stored in: /home/jsiffert/.ivy2/jars\n",
      "org.apache.sedona#sedona-spark-3.5_2.13 added as a dependency\n",
      "org.datasyslab#geotools-wrapper added as a dependency\n",
      ":: resolving dependencies :: org.apache.spark#spark-submit-parent-1be1fb6a-3d9f-4515-85b9-9375b374752b;1.0\n",
      "\tconfs: [default]\n"
     ]
    },
    {
     "name": "stdout",
     "output_type": "stream",
     "text": [
      ":: loading settings :: url = jar:file:/opt/spark-3.5.2-bin-hadoop3-scala2.13/jars/ivy-2.5.1.jar!/org/apache/ivy/core/settings/ivysettings.xml\n"
     ]
    },
    {
     "name": "stderr",
     "output_type": "stream",
     "text": [
      "\tfound org.apache.sedona#sedona-spark-3.5_2.13;1.7.1 in central\n",
      "\tfound org.apache.sedona#sedona-common;1.7.1 in central\n",
      "\tfound org.apache.commons#commons-math3;3.6.1 in central\n",
      "\tfound org.locationtech.jts#jts-core;1.20.0 in central\n",
      "\tfound org.wololo#jts2geojson;0.16.1 in central\n",
      "\tfound org.locationtech.spatial4j#spatial4j;0.8 in central\n",
      "\tfound com.google.geometry#s2-geometry;2.0.0 in central\n",
      "\tfound com.google.guava#guava;25.1-jre in central\n",
      "\tfound com.google.code.findbugs#jsr305;3.0.2 in central\n",
      "\tfound org.checkerframework#checker-qual;2.0.0 in central\n",
      "\tfound com.google.errorprone#error_prone_annotations;2.1.3 in central\n",
      "\tfound com.google.j2objc#j2objc-annotations;1.1 in central\n",
      "\tfound org.codehaus.mojo#animal-sniffer-annotations;1.14 in central\n",
      "\tfound com.uber#h3;4.1.1 in central\n",
      "\tfound net.sf.geographiclib#GeographicLib-Java;1.52 in central\n",
      "\tfound com.github.ben-manes.caffeine#caffeine;2.9.2 in central\n",
      "\tfound org.checkerframework#checker-qual;3.10.0 in central\n",
      "\tfound com.google.errorprone#error_prone_annotations;2.5.1 in central\n",
      "\tfound org.apache.sedona#sedona-spark-common-3.5_2.13;1.7.1 in central\n",
      "\tfound org.apache.sedona#shade-proto;1.7.1 in central\n",
      "\tfound org.xerial#sqlite-jdbc;3.41.2.2 in central\n",
      "\tfound commons-lang#commons-lang;2.6 in central\n",
      "\tfound graphframes#graphframes;0.8.3-spark3.5-s_2.13 in spark-packages\n",
      "\tfound org.slf4j#slf4j-api;1.7.36 in central\n",
      "\tfound org.scala-lang.modules#scala-collection-compat_2.13;2.5.0 in central\n",
      "\tfound org.beryx#awt-color-factory;1.0.0 in central\n",
      "\tfound org.datasyslab#geotools-wrapper;1.7.1-28.5 in central\n",
      ":: resolution report :: resolve 1081ms :: artifacts dl 227ms\n",
      "\t:: modules in use:\n",
      "\tcom.github.ben-manes.caffeine#caffeine;2.9.2 from central in [default]\n",
      "\tcom.google.code.findbugs#jsr305;3.0.2 from central in [default]\n",
      "\tcom.google.errorprone#error_prone_annotations;2.5.1 from central in [default]\n",
      "\tcom.google.geometry#s2-geometry;2.0.0 from central in [default]\n",
      "\tcom.google.guava#guava;25.1-jre from central in [default]\n",
      "\tcom.google.j2objc#j2objc-annotations;1.1 from central in [default]\n",
      "\tcom.uber#h3;4.1.1 from central in [default]\n",
      "\tcommons-lang#commons-lang;2.6 from central in [default]\n",
      "\tgraphframes#graphframes;0.8.3-spark3.5-s_2.13 from spark-packages in [default]\n",
      "\tnet.sf.geographiclib#GeographicLib-Java;1.52 from central in [default]\n",
      "\torg.apache.commons#commons-math3;3.6.1 from central in [default]\n",
      "\torg.apache.sedona#sedona-common;1.7.1 from central in [default]\n",
      "\torg.apache.sedona#sedona-spark-3.5_2.13;1.7.1 from central in [default]\n",
      "\torg.apache.sedona#sedona-spark-common-3.5_2.13;1.7.1 from central in [default]\n",
      "\torg.apache.sedona#shade-proto;1.7.1 from central in [default]\n",
      "\torg.beryx#awt-color-factory;1.0.0 from central in [default]\n",
      "\torg.checkerframework#checker-qual;3.10.0 from central in [default]\n",
      "\torg.codehaus.mojo#animal-sniffer-annotations;1.14 from central in [default]\n",
      "\torg.datasyslab#geotools-wrapper;1.7.1-28.5 from central in [default]\n",
      "\torg.locationtech.jts#jts-core;1.20.0 from central in [default]\n",
      "\torg.locationtech.spatial4j#spatial4j;0.8 from central in [default]\n",
      "\torg.scala-lang.modules#scala-collection-compat_2.13;2.5.0 from central in [default]\n",
      "\torg.slf4j#slf4j-api;1.7.36 from central in [default]\n",
      "\torg.wololo#jts2geojson;0.16.1 from central in [default]\n",
      "\torg.xerial#sqlite-jdbc;3.41.2.2 from central in [default]\n",
      "\t:: evicted modules:\n",
      "\torg.checkerframework#checker-qual;2.0.0 by [org.checkerframework#checker-qual;3.10.0] in [default]\n",
      "\tcom.google.errorprone#error_prone_annotations;2.1.3 by [com.google.errorprone#error_prone_annotations;2.5.1] in [default]\n",
      "\t---------------------------------------------------------------------\n",
      "\t|                  |            modules            ||   artifacts   |\n",
      "\t|       conf       | number| search|dwnlded|evicted|| number|dwnlded|\n",
      "\t---------------------------------------------------------------------\n",
      "\t|      default     |   27  |   0   |   0   |   2   ||   25  |   0   |\n",
      "\t---------------------------------------------------------------------\n",
      ":: retrieving :: org.apache.spark#spark-submit-parent-1be1fb6a-3d9f-4515-85b9-9375b374752b\n",
      "\tconfs: [default]\n",
      "\t0 artifacts copied, 25 already retrieved (0kB/56ms)\n",
      "Setting default log level to \"WARN\".\n",
      "To adjust logging level use sc.setLogLevel(newLevel). For SparkR, use setLogLevel(newLevel).\n",
      "25/05/14 09:25:58 WARN GarbageCollectionMetrics: To enable non-built-in garbage collector(s) List(G1 Concurrent GC), users should configure it(them) to spark.eventLog.gcMetrics.youngGenerationGarbageCollectors or spark.eventLog.gcMetrics.oldGenerationGarbageCollectors\n",
      "25/05/14 09:26:10 WARN Client: Same path resource file:///home/jsiffert/.ivy2/jars/org.apache.sedona_sedona-spark-3.5_2.13-1.7.1.jar added multiple times to distributed cache.\n",
      "25/05/14 09:26:10 WARN Client: Same path resource file:///home/jsiffert/.ivy2/jars/org.datasyslab_geotools-wrapper-1.7.1-28.5.jar added multiple times to distributed cache.\n",
      "25/05/14 09:26:10 WARN Client: Same path resource file:///home/jsiffert/.ivy2/jars/org.apache.sedona_sedona-common-1.7.1.jar added multiple times to distributed cache.\n",
      "25/05/14 09:26:10 WARN Client: Same path resource file:///home/jsiffert/.ivy2/jars/org.apache.sedona_sedona-spark-common-3.5_2.13-1.7.1.jar added multiple times to distributed cache.\n",
      "25/05/14 09:26:10 WARN Client: Same path resource file:///home/jsiffert/.ivy2/jars/org.locationtech.jts_jts-core-1.20.0.jar added multiple times to distributed cache.\n",
      "25/05/14 09:26:10 WARN Client: Same path resource file:///home/jsiffert/.ivy2/jars/org.wololo_jts2geojson-0.16.1.jar added multiple times to distributed cache.\n",
      "25/05/14 09:26:10 WARN Client: Same path resource file:///home/jsiffert/.ivy2/jars/org.scala-lang.modules_scala-collection-compat_2.13-2.5.0.jar added multiple times to distributed cache.\n",
      "25/05/14 09:26:10 WARN Client: Same path resource file:///home/jsiffert/.ivy2/jars/org.apache.commons_commons-math3-3.6.1.jar added multiple times to distributed cache.\n",
      "25/05/14 09:26:10 WARN Client: Same path resource file:///home/jsiffert/.ivy2/jars/org.locationtech.spatial4j_spatial4j-0.8.jar added multiple times to distributed cache.\n",
      "25/05/14 09:26:10 WARN Client: Same path resource file:///home/jsiffert/.ivy2/jars/com.google.geometry_s2-geometry-2.0.0.jar added multiple times to distributed cache.\n",
      "25/05/14 09:26:10 WARN Client: Same path resource file:///home/jsiffert/.ivy2/jars/com.uber_h3-4.1.1.jar added multiple times to distributed cache.\n",
      "25/05/14 09:26:10 WARN Client: Same path resource file:///home/jsiffert/.ivy2/jars/net.sf.geographiclib_GeographicLib-Java-1.52.jar added multiple times to distributed cache.\n",
      "25/05/14 09:26:10 WARN Client: Same path resource file:///home/jsiffert/.ivy2/jars/com.github.ben-manes.caffeine_caffeine-2.9.2.jar added multiple times to distributed cache.\n",
      "25/05/14 09:26:10 WARN Client: Same path resource file:///home/jsiffert/.ivy2/jars/com.google.guava_guava-25.1-jre.jar added multiple times to distributed cache.\n",
      "25/05/14 09:26:10 WARN Client: Same path resource file:///home/jsiffert/.ivy2/jars/com.google.code.findbugs_jsr305-3.0.2.jar added multiple times to distributed cache.\n",
      "25/05/14 09:26:10 WARN Client: Same path resource file:///home/jsiffert/.ivy2/jars/com.google.j2objc_j2objc-annotations-1.1.jar added multiple times to distributed cache.\n",
      "25/05/14 09:26:10 WARN Client: Same path resource file:///home/jsiffert/.ivy2/jars/org.codehaus.mojo_animal-sniffer-annotations-1.14.jar added multiple times to distributed cache.\n",
      "25/05/14 09:26:10 WARN Client: Same path resource file:///home/jsiffert/.ivy2/jars/org.checkerframework_checker-qual-3.10.0.jar added multiple times to distributed cache.\n",
      "25/05/14 09:26:10 WARN Client: Same path resource file:///home/jsiffert/.ivy2/jars/com.google.errorprone_error_prone_annotations-2.5.1.jar added multiple times to distributed cache.\n",
      "25/05/14 09:26:10 WARN Client: Same path resource file:///home/jsiffert/.ivy2/jars/org.apache.sedona_shade-proto-1.7.1-shaded.jar added multiple times to distributed cache.\n",
      "25/05/14 09:26:10 WARN Client: Same path resource file:///home/jsiffert/.ivy2/jars/org.xerial_sqlite-jdbc-3.41.2.2.jar added multiple times to distributed cache.\n",
      "25/05/14 09:26:10 WARN Client: Same path resource file:///home/jsiffert/.ivy2/jars/commons-lang_commons-lang-2.6.jar added multiple times to distributed cache.\n",
      "25/05/14 09:26:10 WARN Client: Same path resource file:///home/jsiffert/.ivy2/jars/graphframes_graphframes-0.8.3-spark3.5-s_2.13.jar added multiple times to distributed cache.\n",
      "25/05/14 09:26:10 WARN Client: Same path resource file:///home/jsiffert/.ivy2/jars/org.beryx_awt-color-factory-1.0.0.jar added multiple times to distributed cache.\n",
      "25/05/14 09:26:10 WARN Client: Same path resource file:///home/jsiffert/.ivy2/jars/org.slf4j_slf4j-api-1.7.36.jar added multiple times to distributed cache.\n",
      "                                                                                \r"
     ]
    }
   ],
   "source": [
    "spark = SparkSession\\\n",
    "    .builder\\\n",
    "    .appName(pwd.getpwuid(os.getuid()).pw_name)\\\n",
    "    .config('spark.ui.port', randrange(4040, 4440, 5))\\\n",
    "    .config(\"spark.executorEnv.PYTHONPATH\", \":\".join(sys.path)) \\\n",
    "    .config('spark.jars', f\"{hadoopFS}/data/com-490/jars/iceberg-spark-runtime-3.5_2.13-1.6.1.jar\")\\\n",
    "    .config(\n",
    "        \"spark.jars.packages\",\n",
    "        \"org.apache.sedona:sedona-spark-3.5_2.13:1.7.1,\"\n",
    "        \"org.datasyslab:geotools-wrapper:1.7.1-28.5\",\n",
    "    )\\\n",
    "    .config(\n",
    "        \"spark.jars.repositories\",\n",
    "        \"https://artifacts.unidata.ucar.edu/repository/unidata-all\",\n",
    "    )\\\n",
    "    .config('spark.sql.extensions', 'org.apache.iceberg.spark.extensions.IcebergSparkSessionExtensions')\\\n",
    "    .config('spark.sql.catalog.iceberg', 'org.apache.iceberg.spark.SparkCatalog')\\\n",
    "    .config('spark.sql.catalog.iceberg.type', 'hadoop')\\\n",
    "    .config('spark.sql.catalog.iceberg.warehouse', f'{hadoopFS}/data/com-490/iceberg/')\\\n",
    "    .config('spark.sql.catalog.spark_catalog', 'org.apache.iceberg.spark.SparkSessionCatalog')\\\n",
    "    .config('spark.sql.catalog.spark_catalog.type', 'hadoop')\\\n",
    "    .config('spark.sql.catalog.spark_catalog.warehouse', f'{hadoopFS}/user/{username}/assignment-3/warehouse')\\\n",
    "    .config(\"spark.sql.warehouse.dir\", f'{hadoopFS}/user/{username}/assignment-3/spark/warehouse')\\\n",
    "    .config('spark.eventLog.gcMetrics.youngGenerationGarbageCollectors', 'G1 Young Generation')\\\n",
    "    .config(\"spark.executor.memory\", \"6g\")\\\n",
    "    .config(\"spark.executor.cores\", \"4\")\\\n",
    "    .config(\"spark.executor.instances\", \"4\")\\\n",
    "    .master('yarn')\\\n",
    "    .getOrCreate()\n",
    "\n",
    "sedona = SedonaContext.create(spark)"
   ]
  },
  {
   "cell_type": "code",
   "execution_count": 5,
   "id": "f2ddce1e-189f-40b3-a23b-bbb74f278fdf",
   "metadata": {},
   "outputs": [
    {
     "data": {
      "text/plain": [
       "DataFrame[]"
      ]
     },
     "execution_count": 5,
     "metadata": {},
     "output_type": "execute_result"
    }
   ],
   "source": [
    "spark.sql(f'CREATE SCHEMA IF NOT EXISTS spark_catalog.{username}')\n",
    "spark.sql(f'USE spark_catalog.{username}')"
   ]
  },
  {
   "cell_type": "markdown",
   "id": "5d2dc048-641d-438c-b5a8-9db7ee90d8e1",
   "metadata": {},
   "source": [
    "# Robust Journey Planning"
   ]
  },
  {
   "cell_type": "code",
   "execution_count": 17,
   "id": "4798c3a2-de01-47a1-9986-c4fb023833a2",
   "metadata": {},
   "outputs": [],
   "source": [
    "from graph.graph import MultiDiGraph\n",
    "from graph.path import Path\n",
    "from config import *\n",
    "from graph.algorithms import dijkstra, yens_k_shortest_paths\n",
    "from utilities import string_to_switzerland_time\n",
    "from transportation_network.network import build_timetable, build_network\n",
    "from predictive_modeling.predictive_model import PredictiveModel"
   ]
  },
  {
   "cell_type": "code",
   "execution_count": 8,
   "id": "3bc9910f-82e9-46f5-b2b5-6065cd912b32",
   "metadata": {},
   "outputs": [],
   "source": [
    "DEFAULT_ARRIVAL_TIME = string_to_switzerland_time(\"2024-04-04 10:30:00\")\n",
    "DEFAULT_MAXIMUM_WALKING_DISTANCE = 1000\n",
    "DEFAULT_CONFIDENCE_THRESHOLD = 0.8\n",
    "DEFAULT_PATH_COUNT = 3\n",
    "DEFAULT_START_STOP_ID = \"8501214\" # Ecublens VD, EPFL\n",
    "DEFAULT_END_STOP_ID = \"8579239\" # Epalinges, Croisettes\n",
    "DEFAULT_RAIN = False\n",
    "DEFAULT_TEMPERATURE = \"medium\"\n",
    "# \"8501214\", # Ecublens VD, EPFL\n",
    "# \"8592226\", # St-Sulpice VD, Russel\n",
    "# \"8590442\", # Lausanne, Riponne-M. Béjart\n",
    "# \"8588157\", # St-Sulpice VD, Bochet\n",
    "# \"8579239\" # Epalinges, Croisettes\n",
    "# \"8501210\" # Lausanne, Bourdonnette"
   ]
  },
  {
   "cell_type": "code",
   "execution_count": 9,
   "id": "bd401506-f1a3-482d-a9bd-5e117d7093bb",
   "metadata": {},
   "outputs": [
    {
     "name": "stderr",
     "output_type": "stream",
     "text": [
      "                                                                                \r"
     ]
    }
   ],
   "source": [
    "stop_times_df, stops_df, transfer_df = build_timetable(\n",
    "    spark, \n",
    "    arrival_datetime=DEFAULT_ARRIVAL_TIME,\n",
    "    region_uuids=REGION_UUIDS,\n",
    "    min_departure_hour=MIN_DEPARTURE_HOUR,\n",
    "    max_arrival_hour=MAX_ARRIVAL_HOUR\n",
    ")"
   ]
  },
  {
   "cell_type": "code",
   "execution_count": 10,
   "id": "e114e8ee-35c0-4443-a42c-453f6b38e7ec",
   "metadata": {},
   "outputs": [],
   "source": [
    "network_df = build_network(\n",
    "    stops_df,\n",
    "    stop_times_df,\n",
    "    transfer_df,\n",
    "    maximum_walking_distance=DEFAULT_MAXIMUM_WALKING_DISTANCE,\n",
    "    walking_speed=WALKING_SPEED,\n",
    ")"
   ]
  },
  {
   "cell_type": "code",
   "execution_count": 11,
   "id": "72607d0b-a1eb-472f-a01f-824becfa1be0",
   "metadata": {},
   "outputs": [],
   "source": [
    "network_df = network_df.cache()"
   ]
  },
  {
   "cell_type": "code",
   "execution_count": 12,
   "id": "2a6edac1-9b50-4d64-9e56-778261473b3a",
   "metadata": {},
   "outputs": [
    {
     "name": "stderr",
     "output_type": "stream",
     "text": [
      "                                                                                \r"
     ]
    }
   ],
   "source": [
    "graph = MultiDiGraph.from_spark_dataframe(network_df, arrival_datetime=DEFAULT_ARRIVAL_TIME)"
   ]
  },
  {
   "cell_type": "code",
   "execution_count": 13,
   "id": "43ffa554-785a-4e68-9b93-2c25287a3421",
   "metadata": {},
   "outputs": [],
   "source": [
    "yen_paths = yens_k_shortest_paths(\n",
    "    graph,\n",
    "    source_id=DEFAULT_END_STOP_ID, # reverse path finding\n",
    "    target_id=DEFAULT_START_STOP_ID,\n",
    "    K=DEFAULT_PATH_COUNT,\n",
    "    arrival_datetime=DEFAULT_ARRIVAL_TIME,\n",
    "    maximum_walking_distance=DEFAULT_MAXIMUM_WALKING_DISTANCE,\n",
    "    walking_speed=WALKING_SPEED,\n",
    "    default_transfer_time=DEFAULT_TRANSFER_TIME\n",
    ")"
   ]
  },
  {
   "cell_type": "code",
   "execution_count": 14,
   "id": "0989f19b-4f48-42bc-801c-11f8e339ccba",
   "metadata": {},
   "outputs": [],
   "source": [
    "paths = [Path.from_dijkstra_output(\n",
    "    path,\n",
    "    arrival_datetime=DEFAULT_ARRIVAL_TIME,\n",
    "    maximum_walking_distance=DEFAULT_MAXIMUM_WALKING_DISTANCE,\n",
    "    walking_speed=WALKING_SPEED\n",
    ") for path in yen_paths]"
   ]
  },
  {
   "cell_type": "code",
   "execution_count": 15,
   "id": "8277a30f-c754-476a-947c-ef3813720dcd",
   "metadata": {},
   "outputs": [],
   "source": [
    "paths = [path.compress() for path in paths]"
   ]
  },
  {
   "cell_type": "code",
   "execution_count": 18,
   "id": "3dc1974e-1c43-4600-9099-196b398be6f3",
   "metadata": {},
   "outputs": [
    {
     "name": "stderr",
     "output_type": "stream",
     "text": [
      "                                                                                \r"
     ]
    }
   ],
   "source": [
    "predictive_model = PredictiveModel(spark, f'/user/{username}/assignment-3/{PM_TABLE_NAME}.parquet')"
   ]
  },
  {
   "cell_type": "code",
   "execution_count": 19,
   "id": "50d24ed4-3105-4cd4-8939-796a75e6c2c2",
   "metadata": {},
   "outputs": [
    {
     "name": "stdout",
     "output_type": "stream",
     "text": [
      "Computing path confidence | Ecublens VD, EPFL -> Epalinges, Croisettes\n",
      "[297.TA.91-m1-j24-1.3.H] -> (Lausanne-Flon, pl. de l'Europe) -> [984.TA.91-m2-j24-1.2.H] | P(d<180.0)=0.8583333333333333 (<built-in method count of Row object at 0x7fd1ff331a10> samples)\n",
      "Key ('8592128', 10, False, 'medium') don't match any distributions, fallback to exponential distribution.\n",
      "[984.TA.91-m2-j24-1.2.H] -> (Lausanne, Vennes) = Arrival | P(d<107.0)=0.99 (-1 samples)\n"
     ]
    },
    {
     "data": {
      "text/plain": [
       "0.8497499999999999"
      ]
     },
     "execution_count": 19,
     "metadata": {},
     "output_type": "execute_result"
    }
   ],
   "source": [
    "predictive_model.get_path_confidence(paths[0], DEFAULT_RAIN, DEFAULT_TEMPERATURE)"
   ]
  },
  {
   "cell_type": "code",
   "execution_count": 20,
   "id": "b0e14b7d-0f0e-47b1-a4ec-f11bfc0af4f4",
   "metadata": {},
   "outputs": [],
   "source": [
    "# spark.stop()"
   ]
  }
 ],
 "metadata": {
  "kernelspec": {
   "display_name": "Python 3 (ipykernel)",
   "language": "python",
   "name": "python3"
  },
  "language_info": {
   "codemirror_mode": {
    "name": "ipython",
    "version": 3
   },
   "file_extension": ".py",
   "mimetype": "text/x-python",
   "name": "python",
   "nbconvert_exporter": "python",
   "pygments_lexer": "ipython3",
   "version": "3.10.10"
  }
 },
 "nbformat": 4,
 "nbformat_minor": 5
}
